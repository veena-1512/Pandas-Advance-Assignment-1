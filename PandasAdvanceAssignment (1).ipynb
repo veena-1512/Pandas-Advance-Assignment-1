{
 "cells": [
  {
   "attachments": {},
   "cell_type": "markdown",
   "id": "b685d59c-2fd4-420a-b41f-89ab0552f468",
   "metadata": {},
   "source": [
    "Q1. List of five functions of the pandas library with execution.\n",
    "\n",
    "i . read_csv(): This function is used to read data from a CSV file and create a DataFrame."
   ]
  },
  {
   "cell_type": "code",
   "execution_count": null,
   "id": "329fec50-f4f4-4c41-a4c2-e351b7976984",
   "metadata": {},
   "outputs": [
    {
     "ename": "AttributeError",
     "evalue": "module 'pandas' has no attribute 'reead_csv'",
     "output_type": "error",
     "traceback": [
      "\u001b[0;31m---------------------------------------------------------------------------\u001b[0m",
      "\u001b[0;31mAttributeError\u001b[0m                            Traceback (most recent call last)",
      "Cell \u001b[0;32mIn[3], line 4\u001b[0m\n\u001b[1;32m      1\u001b[0m \u001b[38;5;66;03m#1. read_csv(): This function is used to read data from a CSV file and create a DataFrame.\u001b[39;00m\n\u001b[1;32m      2\u001b[0m \u001b[38;5;28;01mimport\u001b[39;00m \u001b[38;5;21;01mpandas\u001b[39;00m \u001b[38;5;28;01mas\u001b[39;00m \u001b[38;5;21;01mpd\u001b[39;00m\n\u001b[0;32m----> 4\u001b[0m df\u001b[38;5;241m=\u001b[39m \u001b[43mpd\u001b[49m\u001b[38;5;241;43m.\u001b[39;49m\u001b[43mreead_csv\u001b[49m(\u001b[38;5;124m'\u001b[39m\u001b[38;5;124mdata file.csv  \u001b[39m\u001b[38;5;124m'\u001b[39m)\n\u001b[1;32m      5\u001b[0m \u001b[38;5;28mprint\u001b[39m(df)\n",
      "File \u001b[0;32m/opt/conda/lib/python3.10/site-packages/pandas/__init__.py:264\u001b[0m, in \u001b[0;36m__getattr__\u001b[0;34m(name)\u001b[0m\n\u001b[1;32m    260\u001b[0m     \u001b[38;5;28;01mfrom\u001b[39;00m \u001b[38;5;21;01mpandas\u001b[39;00m\u001b[38;5;21;01m.\u001b[39;00m\u001b[38;5;21;01mcore\u001b[39;00m\u001b[38;5;21;01m.\u001b[39;00m\u001b[38;5;21;01marrays\u001b[39;00m\u001b[38;5;21;01m.\u001b[39;00m\u001b[38;5;21;01msparse\u001b[39;00m \u001b[38;5;28;01mimport\u001b[39;00m SparseArray \u001b[38;5;28;01mas\u001b[39;00m _SparseArray\n\u001b[1;32m    262\u001b[0m     \u001b[38;5;28;01mreturn\u001b[39;00m _SparseArray\n\u001b[0;32m--> 264\u001b[0m \u001b[38;5;28;01mraise\u001b[39;00m \u001b[38;5;167;01mAttributeError\u001b[39;00m(\u001b[38;5;124mf\u001b[39m\u001b[38;5;124m\"\u001b[39m\u001b[38;5;124mmodule \u001b[39m\u001b[38;5;124m'\u001b[39m\u001b[38;5;124mpandas\u001b[39m\u001b[38;5;124m'\u001b[39m\u001b[38;5;124m has no attribute \u001b[39m\u001b[38;5;124m'\u001b[39m\u001b[38;5;132;01m{\u001b[39;00mname\u001b[38;5;132;01m}\u001b[39;00m\u001b[38;5;124m'\u001b[39m\u001b[38;5;124m\"\u001b[39m)\n",
      "\u001b[0;31mAttributeError\u001b[0m: module 'pandas' has no attribute 'reead_csv'"
     ]
    }
   ],
   "source": [
    "\n",
    "import pandas as pd\n",
    "\n",
    "df= pd.reead_csv('data file.csv  ')\n",
    "print(df)"
   ]
  },
  {
   "attachments": {},
   "cell_type": "markdown",
   "id": "8752f3c8-ac24-4163-8305-8363f63c0557",
   "metadata": {},
   "source": [
    "ii.head(): It returns the first n rows of a DataFrame. By default, it returns the first 5 rows."
   ]
  },
  {
   "cell_type": "code",
   "execution_count": 5,
   "id": "2d218d60-4084-4525-8b65-0178a67001f3",
   "metadata": {},
   "outputs": [
    {
     "name": "stdout",
     "output_type": "stream",
     "text": [
      "   A  B\n",
      "0  1  a\n",
      "1  2  b\n",
      "2  3  c\n"
     ]
    }
   ],
   "source": [
    "import pandas as pd\n",
    "\n",
    "# Create a DataFrame\n",
    "data = pd.DataFrame({'A': [1, 2, 3, 4, 5],\n",
    "                     'B': ['a', 'b', 'c', 'd', 'e']})\n",
    "\n",
    "# Display the first 3 rows\n",
    "print(data.head(3))"
   ]
  },
  {
   "attachments": {},
   "cell_type": "markdown",
   "id": "fb1c9826-8099-445c-b29f-0796ca5700ba",
   "metadata": {},
   "source": [
    "iii.describe(): It provides summary statistics of numerical columns in a DataFrame, including count, mean, standard deviation, minimum, maximum, and quartile values."
   ]
  },
  {
   "cell_type": "code",
   "execution_count": 7,
   "id": "76f23f2a-71b6-44fd-baba-786c1b5c1eed",
   "metadata": {},
   "outputs": [
    {
     "name": "stdout",
     "output_type": "stream",
     "text": [
      "              A          B\n",
      "count  5.000000   5.000000\n",
      "mean   3.000000  30.000000\n",
      "std    1.581139  15.811388\n",
      "min    1.000000  10.000000\n",
      "25%    2.000000  20.000000\n",
      "50%    3.000000  30.000000\n",
      "75%    4.000000  40.000000\n",
      "max    5.000000  50.000000\n"
     ]
    }
   ],
   "source": [
    "\n",
    "data = pd.DataFrame({'A': [1, 2, 3, 4, 5],\n",
    "                     'B': [10, 20, 30, 40, 50]})\n",
    "print(data.describe())"
   ]
  },
  {
   "attachments": {},
   "cell_type": "markdown",
   "id": "e07382cf-751f-4aaf-ac66-055e14eb480e",
   "metadata": {},
   "source": [
    "iv. groupby(): This function is used for grouping rows in a DataFrame based on one or more columns and applying aggregation functions to them."
   ]
  },
  {
   "cell_type": "code",
   "execution_count": 12,
   "id": "42c9f579-701f-4925-80a3-2cb491d153c2",
   "metadata": {},
   "outputs": [
    {
     "name": "stdout",
     "output_type": "stream",
     "text": [
      "Name\n",
      "Aarav    7000.0\n",
      "Aman     5000.0\n",
      "Jack     6000.0\n",
      "Job      4500.0\n",
      "Jocki    5500.0\n",
      "Name: Salary, dtype: float64\n"
     ]
    }
   ],
   "source": [
    "df = pd.DataFrame({'Name': ['Aman', 'Jack', 'Aarav', 'Jocki', 'Job'],\n",
    "                     'Age': [25, 30, 35, 25, 40],\n",
    "                     'Salary': [5000, 6000, 7000, 5500, 4500]})\n",
    "\n",
    "grouped_df = df.groupby('Name')['Salary'].mean()\n",
    "print(grouped_df)"
   ]
  },
  {
   "attachments": {},
   "cell_type": "markdown",
   "id": "8616fc2b-e7ee-4e4f-9d17-8243557d444c",
   "metadata": {},
   "source": [
    "v.sort_values(): It sorts a DataFrame based on one or more columns."
   ]
  },
  {
   "cell_type": "code",
   "execution_count": 15,
   "id": "79818e8a-1a13-4d9b-bb96-39d0d20f069f",
   "metadata": {},
   "outputs": [
    {
     "name": "stdout",
     "output_type": "stream",
     "text": [
      "    Name  Age  Salary\n",
      "2  Aarav   35    7000\n",
      "1   Jack   30    6000\n",
      "3  Jocki   25    5500\n",
      "0   Aman   25    5000\n",
      "4    Job   40    4500\n"
     ]
    }
   ],
   "source": [
    "sorted_df = df.sort_values('Salary', ascending=False)\n",
    "print(sorted_df)"
   ]
  },
  {
   "attachments": {},
   "cell_type": "markdown",
   "id": "3ffaeb68-c3a2-43f0-a85a-b8394d8029f0",
   "metadata": {},
   "source": [
    "Q 2. ReIndex of data Frame:-"
   ]
  },
  {
   "cell_type": "code",
   "execution_count": 6,
   "id": "d0f1587d-6083-4115-8770-c502f66c4915",
   "metadata": {},
   "outputs": [
    {
     "name": "stdout",
     "output_type": "stream",
     "text": [
      "   A  B      C\n",
      "0  1  a   True\n",
      "1  2  b  False\n",
      "2  3  c   True\n",
      "3  4  d  False\n",
      "4  5  e   True\n"
     ]
    }
   ],
   "source": [
    "data = {'A': [1, 2, 3, 4, 5],\n",
    "        'B': ['a', 'b', 'c', 'd', 'e'],\n",
    "        'C': [True, False, True, False, True]}\n",
    "\n",
    "df = pd.DataFrame(data)\n",
    "\n",
    "print (df)"
   ]
  },
  {
   "cell_type": "code",
   "execution_count": 7,
   "id": "5427106d-2405-4b04-9058-e58b5cc3e7e2",
   "metadata": {},
   "outputs": [],
   "source": [
    "\n",
    "def reindex_dataframe(df):\n",
    "    new_index = pd.RangeIndex(start=1, stop=len(df)*2, step=2)\n",
    "    df = df.reset_index(drop=True)\n",
    "    df.index = new_index\n",
    "    return df"
   ]
  },
  {
   "cell_type": "code",
   "execution_count": 8,
   "id": "73599afd-da71-4223-b964-6170b8228080",
   "metadata": {},
   "outputs": [],
   "source": [
    "new_df = reindex_dataframe(df)"
   ]
  },
  {
   "cell_type": "code",
   "execution_count": 9,
   "id": "674a8d36-e78d-4cbe-9f4f-da43459a48a1",
   "metadata": {},
   "outputs": [
    {
     "name": "stdout",
     "output_type": "stream",
     "text": [
      "   A  B      C\n",
      "1  1  a   True\n",
      "3  2  b  False\n",
      "5  3  c   True\n",
      "7  4  d  False\n",
      "9  5  e   True\n"
     ]
    }
   ],
   "source": [
    "print(new_df)"
   ]
  },
  {
   "attachments": {},
   "cell_type": "markdown",
   "id": "63a8c4f3-8b56-4a97-9894-1b0bc68e38fe",
   "metadata": {},
   "source": [
    "Q. 3  DataFrame df with a column named 'Values'. sum of the first three values in the 'Values' column"
   ]
  },
  {
   "cell_type": "code",
   "execution_count": 12,
   "id": "b383797a-42a1-497d-85bc-d07acbbc1668",
   "metadata": {},
   "outputs": [
    {
     "name": "stdout",
     "output_type": "stream",
     "text": [
      "   A  B      C\n",
      "0  1  a   True\n",
      "1  2  b  False\n",
      "2  3  c   True\n",
      "3  4  d  False\n",
      "4  5  e   True\n"
     ]
    }
   ],
   "source": [
    "data = {'A': [1, 2, 3, 4, 5],\n",
    "        'B': ['a', 'b', 'c', 'd', 'e'],\n",
    "        'C': [True, False, True, False, True]}\n",
    "\n",
    "df = pd.DataFrame(data)\n",
    "\n",
    "print (df)"
   ]
  },
  {
   "cell_type": "code",
   "execution_count": 28,
   "id": "0a7585ae-db1d-433b-9bda-855dc6117ca2",
   "metadata": {},
   "outputs": [],
   "source": [
    "data = {'Values': [10, 20, 30, 40, 50]}\n",
    "df1 = pd.DataFrame(data)"
   ]
  },
  {
   "cell_type": "code",
   "execution_count": 29,
   "id": "ea5448ac-de13-45de-8931-7f5094712bc9",
   "metadata": {},
   "outputs": [
    {
     "name": "stdout",
     "output_type": "stream",
     "text": [
      "   Values\n",
      "0      10\n",
      "1      20\n",
      "2      30\n",
      "3      40\n",
      "4      50\n"
     ]
    }
   ],
   "source": [
    "print(df1)"
   ]
  },
  {
   "cell_type": "code",
   "execution_count": 30,
   "id": "cd0cb781-f62a-4f13-9298-3ac14c80a044",
   "metadata": {},
   "outputs": [],
   "source": [
    "def calculate_sum(df1):\n",
    "    values_sum = df1['Values'].head(3).sum()\n",
    "    print(\"Sum of the first three values:\", values_sum)"
   ]
  },
  {
   "cell_type": "code",
   "execution_count": 31,
   "id": "712d10dc-6031-40b5-b5c9-a9658e6cc787",
   "metadata": {},
   "outputs": [
    {
     "name": "stdout",
     "output_type": "stream",
     "text": [
      "Sum of the first three values: 60\n"
     ]
    }
   ],
   "source": [
    "calculate_sum(df1)"
   ]
  },
  {
   "attachments": {},
   "cell_type": "markdown",
   "id": "2ac2e8bc-7264-4e13-8f2c-e97a3417299e",
   "metadata": {},
   "source": [
    "Q 4. A new column 'Word_Count' in a Pandas DataFrame based on the number of words in each row of the 'Text' column."
   ]
  },
  {
   "cell_type": "code",
   "execution_count": 42,
   "id": "50596311-e7f6-4ea8-ad47-47c74ba04c22",
   "metadata": {},
   "outputs": [],
   "source": [
    "data = {'Text': ['This is a sample text.',\n",
    "                 'It has multiple words in each row.',\n",
    "                 'Pandas DataFrame with Python is amazing!']}\n",
    "df2 = pd.DataFrame(data)"
   ]
  },
  {
   "cell_type": "code",
   "execution_count": 46,
   "id": "ad7ad472-e46c-4e41-b620-fceb6a972fc4",
   "metadata": {},
   "outputs": [],
   "source": [
    "def count_words(text):\n",
    "    words = text.split()\n",
    "    return len(words)\n",
    "def add_word_count_column(df2):\n",
    "    df2['Word_Count'] = df2['Text'].apply(count_words)\n",
    "\n"
   ]
  },
  {
   "cell_type": "code",
   "execution_count": 47,
   "id": "7b8b7c0b-9fe2-45a8-92ee-9c7c2a91c255",
   "metadata": {},
   "outputs": [
    {
     "name": "stdout",
     "output_type": "stream",
     "text": [
      "                                       Text  Word_Count\n",
      "0                    This is a sample text.           5\n",
      "1        It has multiple words in each row.           7\n",
      "2  Pandas DataFrame with Python is amazing!           6\n"
     ]
    }
   ],
   "source": [
    "add_word_count_column(df2)\n",
    "\n",
    "print(df2)"
   ]
  },
  {
   "attachments": {},
   "cell_type": "markdown",
   "id": "e3dd8d4e-e806-41cf-a26f-d8f3efdc2beb",
   "metadata": {},
   "source": [
    "Q.5  How are DataFrame.size() and DataFrame.shape() different?"
   ]
  },
  {
   "attachments": {},
   "cell_type": "markdown",
   "id": "6239d4f0-8bb8-4203-a61d-ea7748fd6288",
   "metadata": {},
   "source": [
    "\n",
    "i.DataFrame.size returns the total number of elements in the DataFrame.\n",
    "\n",
    "ii.DataFrame.shape returns a tuple containing the dimensions of the DataFrame.\n",
    "It provides the number of rows followed by the number of columns in the DataFrame.\n",
    "The value returned by DataFrame.shape is a tuple (rows, columns) representing the shape of the DataFrame."
   ]
  },
  {
   "cell_type": "code",
   "execution_count": 49,
   "id": "a74bef20-0132-4f73-a6e6-49c74da118e8",
   "metadata": {},
   "outputs": [
    {
     "name": "stdout",
     "output_type": "stream",
     "text": [
      "DataFrame.size: 6\n",
      "DataFrame.shape: (3, 2)\n"
     ]
    }
   ],
   "source": [
    "data = {'A': [1, 2, 3],\n",
    "        'B': [4, 5, 6]}\n",
    "\n",
    "df3 = pd.DataFrame(data)\n",
    "\n",
    "print(\"DataFrame.size:\", df3.size)\n",
    "print(\"DataFrame.shape:\", df3.shape)"
   ]
  },
  {
   "attachments": {},
   "cell_type": "markdown",
   "id": "cd498cbd-503e-4186-8805-228acd7a7e64",
   "metadata": {},
   "source": [
    "Q. 6 Which function of pandas do we use to read an excel file\n",
    "\n",
    "df = pd.read_excel('path/to/your/file.xlsx')\n"
   ]
  },
  {
   "attachments": {},
   "cell_type": "markdown",
   "id": "c3b20695-929d-4b56-9a2e-6bc297a79e7c",
   "metadata": {},
   "source": [
    "Q 7.  DataFrame df that contains a column named 'Email' that contains email \n",
    "addresses in the format 'username@domain.com'."
   ]
  },
  {
   "cell_type": "code",
   "execution_count": null,
   "id": "72bc99f9-14cf-4bc5-a7f1-adade87b151f",
   "metadata": {},
   "outputs": [
    {
     "name": "stdout",
     "output_type": "stream",
     "text": [
      "                    Email\n",
      "0     viru.pw@example.com\n",
      "1  jack.singh@example.com\n",
      "2  bob.surraf@example.com\n"
     ]
    }
   ],
   "source": [
    "data = {'Email': ['viru.pw@example.com',\n",
    "                  'jack.singh@example.com',\n",
    "                  'bob.surraf@example.com']}\n",
    "df4 = pd.DataFrame(data)\n",
    "\n",
    "print(df4)"
   ]
  },
  {
   "cell_type": "code",
   "execution_count": 55,
   "id": "5e18912a-650a-41c0-bcbf-87ec121e7fea",
   "metadata": {},
   "outputs": [],
   "source": [
    "def extract_username(email):\n",
    "    return email.split('@')[0]\n",
    "\n",
    "def add_username_column(df4):\n",
    "    df4['Username'] = df4['Email'].apply(extract_username)\n"
   ]
  },
  {
   "cell_type": "code",
   "execution_count": 56,
   "id": "03204786-7a10-4568-a815-c9eaaf8a0581",
   "metadata": {},
   "outputs": [
    {
     "name": "stdout",
     "output_type": "stream",
     "text": [
      "                    Email    Username\n",
      "0     viru.pw@example.com     viru.pw\n",
      "1  jack.singh@example.com  jack.singh\n",
      "2  bob.surraf@example.com  bob.surraf\n"
     ]
    }
   ],
   "source": [
    "add_username_column(df4)\n",
    "\n",
    "print(df4)"
   ]
  },
  {
   "cell_type": "code",
   "execution_count": null,
   "id": "b7ef63ca-36ad-43f1-b659-7064f2bbfdb7",
   "metadata": {},
   "outputs": [],
   "source": [
    "Q 8.function that selects all rows where the value in column 'A' is greater than 5 and the value in column 'B' is less than 10. The \n",
    "function should return a new DataFrame that contains only the selected rows."
   ]
  },
  {
   "cell_type": "code",
   "execution_count": 3,
   "id": "adbe89bb-c33d-45b6-9ab2-9fd5d9952c47",
   "metadata": {},
   "outputs": [],
   "source": [
    "import pandas as pd\n",
    "data = {'A': [3,8, 6,2, 9],\n",
    "        'B': [5, 2, 9, 3, 1],\n",
    "        'C': [1, 7, 4, 5, 2]}\n",
    "df5 = pd.DataFrame(data)"
   ]
  },
  {
   "cell_type": "code",
   "execution_count": 4,
   "id": "b94546b7-c559-4ac0-9e1f-43e1500943ff",
   "metadata": {},
   "outputs": [],
   "source": [
    "def select_rows(df5):\n",
    "    selected_rows = df5[(df5['A'] > 5) & (df5['B'] < 10)]\n",
    "    return selected_rows\n"
   ]
  },
  {
   "cell_type": "code",
   "execution_count": 5,
   "id": "617e7e43-de95-4b08-bbf3-d0935ad0914b",
   "metadata": {},
   "outputs": [
    {
     "name": "stdout",
     "output_type": "stream",
     "text": [
      "   A  B  C\n",
      "1  8  2  7\n",
      "2  6  9  4\n",
      "4  9  1  2\n"
     ]
    }
   ],
   "source": [
    "selected_df5 = select_rows(df5)\n",
    "\n",
    "print(selected_df5)"
   ]
  },
  {
   "attachments": {},
   "cell_type": "markdown",
   "id": "5aea31bb-265a-4784-9d74-087ce1f8784a",
   "metadata": {},
   "source": [
    "Q 9. Python function to calculate the mean, \n",
    "median, and standard deviation of the values in the 'Values' column"
   ]
  },
  {
   "cell_type": "code",
   "execution_count": 7,
   "id": "8d640df6-fcb4-44d1-87b9-6b8d0788cea0",
   "metadata": {},
   "outputs": [],
   "source": [
    "data = {'Values': [10, 20, 30, 40, 50]}\n",
    "df8 = pd.DataFrame(data)"
   ]
  },
  {
   "cell_type": "code",
   "execution_count": 8,
   "id": "49314c7e-e538-481b-afd1-a4026ab83100",
   "metadata": {},
   "outputs": [],
   "source": [
    "def calculate_stats(df):\n",
    "    values_mean = df8['Values'].mean()\n",
    "    values_median = df8['Values'].median()\n",
    "    values_std = df8['Values'].std()\n",
    "    return values_mean, values_median, values_std\n"
   ]
  },
  {
   "cell_type": "code",
   "execution_count": 9,
   "id": "e982466c-27b1-47ae-bb5b-733d7cebda1a",
   "metadata": {},
   "outputs": [
    {
     "name": "stdout",
     "output_type": "stream",
     "text": [
      "Mean: 30.0\n",
      "Median: 30.0\n",
      "Standard Deviation: 15.811388300841896\n"
     ]
    }
   ],
   "source": [
    "mean, median, std = calculate_stats(df8)\n",
    "\n",
    "print(\"Mean:\", mean)\n",
    "print(\"Median:\", median)\n",
    "print(\"Standard Deviation:\", std)"
   ]
  },
  {
   "attachments": {},
   "cell_type": "markdown",
   "id": "9e5644fa-4b38-4332-87d0-726406f73a37",
   "metadata": {},
   "source": [
    "Q 10 calculate moving average:-"
   ]
  },
  {
   "cell_type": "code",
   "execution_count": 5,
   "id": "f9a7f210-a41b-40f7-8b55-990b9580eaab",
   "metadata": {},
   "outputs": [
    {
     "name": "stdout",
     "output_type": "stream",
     "text": [
      "         Date  Sales  MovingAverage\n",
      "0  2023-07-01    100     100.000000\n",
      "1  2023-07-02    200     150.000000\n",
      "2  2023-07-21    500     266.666667\n",
      "3  2023-07-20    300     275.000000\n"
     ]
    }
   ],
   "source": [
    "\n",
    "df10 = pd.DataFrame({'Date': ['2023-07-01', '2023-07-02', '2023-07-21', '2023-07-20'],\n",
    "               'Sales': [100, 200, 500, 300]})\n",
    "df10 = calculate_moving_average(df10)\n",
    "print(df10)"
   ]
  },
  {
   "attachments": {},
   "cell_type": "markdown",
   "id": "ee55a9aa-0615-4df2-9317-ef60d2affc56",
   "metadata": {},
   "source": [
    "Q 11. e a Pandas DataFrame df with a column 'Date'. Write a Python function that creates a new \n",
    "column 'Weekday' in the DataFrame. "
   ]
  },
  {
   "cell_type": "code",
   "execution_count": 11,
   "id": "26b72798-d632-480d-bed4-d1956a031ea5",
   "metadata": {},
   "outputs": [],
   "source": [
    "import pandas as pd\n",
    "data = {'Date': ['2023-01-01',\n",
    "                 '2023-01-02',\n",
    "                 '2023-01-03',\n",
    "                 '2023-01-04',\n",
    "                 '2023-01-05']}\n",
    "df9 = pd.DataFrame(data)"
   ]
  },
  {
   "cell_type": "code",
   "execution_count": 12,
   "id": "944fd0bb-c8b6-4cc9-9343-4000505caf16",
   "metadata": {},
   "outputs": [],
   "source": [
    "def add_weekday_column(df9):\n",
    "    df9['Weekday'] = df9['Date'].dt.day"
   ]
  },
  {
   "cell_type": "code",
   "execution_count": 13,
   "id": "82b6b7e4-2942-46e8-bfcb-e72cace4b495",
   "metadata": {},
   "outputs": [
    {
     "name": "stdout",
     "output_type": "stream",
     "text": [
      "        Date  Weekday\n",
      "0 2023-01-01        1\n",
      "1 2023-01-02        2\n",
      "2 2023-01-03        3\n",
      "3 2023-01-04        4\n",
      "4 2023-01-05        5\n"
     ]
    }
   ],
   "source": [
    "df9['Date'] = pd.to_datetime(df9['Date'])\n",
    "add_weekday_column(df9)\n",
    "\n",
    "print(df9)"
   ]
  },
  {
   "cell_type": "code",
   "execution_count": 14,
   "id": "0c74dcf3-e64d-4778-b884-d834fd2e6e63",
   "metadata": {},
   "outputs": [],
   "source": [
    "df9['Date']=pd.to_datetime(df9['Date'])\n",
    "add_weekday_column(df9)"
   ]
  },
  {
   "cell_type": "code",
   "execution_count": 15,
   "id": "c5405a37-5034-4474-8419-816d58bb59cb",
   "metadata": {},
   "outputs": [
    {
     "name": "stdout",
     "output_type": "stream",
     "text": [
      "        Date  Weekday\n",
      "0 2023-01-01        1\n",
      "1 2023-01-02        2\n",
      "2 2023-01-03        3\n",
      "3 2023-01-04        4\n",
      "4 2023-01-05        5\n"
     ]
    }
   ],
   "source": [
    "print(df9)"
   ]
  },
  {
   "cell_type": "code",
   "execution_count": null,
   "id": "3b45bf50-664f-4c58-b14f-e735ac40c153",
   "metadata": {},
   "outputs": [],
   "source": [
    "Q 12.  Given a Pandas DataFrame df12 with a column 'Date' that contains timestamps, and a Python \n",
    "function to select all rows where the date is between '2023-01-01' and '2023-01-31'"
   ]
  },
  {
   "cell_type": "code",
   "execution_count": 3,
   "id": "db3282e9-4610-443e-86f0-1733dac32bab",
   "metadata": {},
   "outputs": [],
   "source": [
    "import pandas as pd\n",
    "\n",
    "df12 = pd.DataFrame({\n",
    "    'Date': ['2022-12-31', '2023-01-01', '2023-01-15', '2023-02-01', '2023-03-15'],\n",
    "    'Value': [1, 2, 3, 4, 5]\n",
    "})"
   ]
  },
  {
   "cell_type": "code",
   "execution_count": 6,
   "id": "069332f1-83b5-473d-add8-04d6b2edd74d",
   "metadata": {},
   "outputs": [
    {
     "name": "stdout",
     "output_type": "stream",
     "text": [
      "         Date  Value\n",
      "0  2022-12-31      1\n",
      "1  2023-01-01      2\n",
      "2  2023-01-15      3\n",
      "3  2023-02-01      4\n",
      "4  2023-03-15      5\n"
     ]
    }
   ],
   "source": [
    "print (df12)"
   ]
  },
  {
   "cell_type": "code",
   "execution_count": 13,
   "id": "2fd30607-59af-4361-935f-5025c9bc7f0c",
   "metadata": {},
   "outputs": [],
   "source": [
    "def select_rows_between_dates(df12):\n",
    "    df12['Date'] = pd.to_datetime(df12['Date']) \n",
    "    start_date = pd.to_datetime('2023-01-01')\n",
    "    end_date = pd.to_datetime('2023-01-31')\n",
    "    mask = (df12['Date'] >= start_date) & (df12['Date'] <= end_date)\n",
    "    selected_rows = df12.loc[mask]\n",
    "    return selected_rows"
   ]
  },
  {
   "cell_type": "code",
   "execution_count": 14,
   "id": "e68d4665-2b76-4e8d-b625-ac7587cbc4b3",
   "metadata": {},
   "outputs": [
    {
     "name": "stdout",
     "output_type": "stream",
     "text": [
      "        Date  Value\n",
      "1 2023-01-01      2\n",
      "2 2023-01-15      3\n"
     ]
    }
   ],
   "source": [
    "selected_rows = select_rows_between_dates(df12)\n",
    "print(selected_rows)"
   ]
  },
  {
   "attachments": {},
   "cell_type": "markdown",
   "id": "14cb1d14-1717-4502-9393-122248d3cb76",
   "metadata": {},
   "source": [
    "13. To use the basic functions of Pandas, the first and foremost library that needs to be imported is pandas itself. It is a popular library in Python for data manipulation and analysis. Here's an example of how to import the Pandas library."
   ]
  },
  {
   "cell_type": "code",
   "execution_count": 15,
   "id": "1a5706b1-7fdd-46b3-88e1-985cb1b47a8e",
   "metadata": {},
   "outputs": [],
   "source": [
    "import pandas as pd"
   ]
  },
  {
   "cell_type": "code",
   "execution_count": null,
   "id": "7a372be7-41cd-4649-9c4d-d0e8e5fd38df",
   "metadata": {},
   "outputs": [],
   "source": []
  }
 ],
 "metadata": {
  "kernelspec": {
   "display_name": "Python 3 (ipykernel)",
   "language": "python",
   "name": "python3"
  },
  "language_info": {
   "codemirror_mode": {
    "name": "ipython",
    "version": 3
   },
   "file_extension": ".py",
   "mimetype": "text/x-python",
   "name": "python",
   "nbconvert_exporter": "python",
   "pygments_lexer": "ipython3",
   "version": "3.10.8"
  }
 },
 "nbformat": 4,
 "nbformat_minor": 5
}
